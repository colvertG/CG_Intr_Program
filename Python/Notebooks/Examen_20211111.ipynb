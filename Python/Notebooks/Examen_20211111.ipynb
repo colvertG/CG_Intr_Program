{
 "cells": [
  {
   "cell_type": "code",
   "execution_count": 33,
   "metadata": {},
   "outputs": [],
   "source": [
    "archivo={\"fruta1\":\"\\\\carpeta\\\\manzana.jpg\",\n",
    "      \"fruta2\":\"\\\\carpeta\\\\pina.jpg\",\n",
    "      \"fruta3\":\"\\\\carpeta\\\\platano.jpg\"}\n"
   ]
  },
  {
   "cell_type": "code",
   "execution_count": 37,
   "metadata": {},
   "outputs": [
    {
     "data": {
      "text/plain": [
       "False"
      ]
     },
     "execution_count": 37,
     "metadata": {},
     "output_type": "execute_result"
    }
   ],
   "source": [
    "\"manzana\" in archivo[\"fruta2\"]"
   ]
  },
  {
   "cell_type": "code",
   "execution_count": 38,
   "metadata": {},
   "outputs": [
    {
     "data": {
      "text/plain": [
       "['/users/micarpeta/archivo1.txt',\n",
       " '/users/micarpeta/archivo2.txt',\n",
       " '/users/micarpeta/archivo3.txt',\n",
       " '/users/micarpeta/archivo4.txt',\n",
       " '/users/micarpeta/archivo5.txt']"
      ]
     },
     "execution_count": 38,
     "metadata": {},
     "output_type": "execute_result"
    }
   ],
   "source": [
    "lista=[\"/users/micarpeta/archivo1.txt\",\n",
    "       \"/users/micarpeta/archivo2.txt\",\n",
    "       \"/users/micarpeta/archivo3.txt\",\n",
    "       \"/users/micarpeta/archivo4.txt\",\n",
    "       \"/users/micarpeta/archivo5.txt\"]\n",
    "lista"
   ]
  },
  {
   "cell_type": "code",
   "execution_count": 39,
   "metadata": {},
   "outputs": [
    {
     "data": {
      "text/plain": [
       "['\\\\users\\\\micarpeta\\\\archivo1.txt',\n",
       " '\\\\users\\\\micarpeta\\\\archivo2.txt',\n",
       " '\\\\users\\\\micarpeta\\\\archivo3.txt',\n",
       " '\\\\users\\\\micarpeta\\\\archivo4.txt',\n",
       " '\\\\users\\\\micarpeta\\\\archivo5.txt']"
      ]
     },
     "execution_count": 39,
     "metadata": {},
     "output_type": "execute_result"
    }
   ],
   "source": [
    "lista_nueva=[lista[0].replace(\"/\",\"\\\\\"),\n",
    "             lista[1].replace(\"/\",\"\\\\\"),\n",
    "             lista[2].replace(\"/\",\"\\\\\"),\n",
    "             lista[3].replace(\"/\",\"\\\\\"),\n",
    "             lista[4].replace(\"/\",\"\\\\\"),]\n",
    "lista_nueva"
   ]
  },
  {
   "cell_type": "code",
   "execution_count": 46,
   "metadata": {},
   "outputs": [],
   "source": [
    "lista=['\\\\users\\\\micarpeta\\\\archivo.jpg',\n",
    "       '\\\\users\\\\micarpeta\\\\archivo2.jpg',\n",
    "       '\\\\users\\\\micarpeta\\\\archivo2.jpg',\n",
    "       '\\\\users\\\\micarpeta\\\\archivo2.jpg',\n",
    "       '\\\\users\\\\micarpeta\\\\archivo2.jpg']"
   ]
  },
  {
   "cell_type": "code",
   "execution_count": 47,
   "metadata": {},
   "outputs": [
    {
     "data": {
      "text/plain": [
       "True"
      ]
     },
     "execution_count": 47,
     "metadata": {},
     "output_type": "execute_result"
    }
   ],
   "source": [
    "lista[0].split(\".\")[-1]==\"jpg\" and lista[1].split(\".\")[-1]==\"jpg\" and lista[2].split(\".\")[-1]==\"jpg\" and lista[3].split(\".\")[-1]==\"jpg\" and lista[4].split(\".\")[-1]==\"jpg\"\n",
    "    "
   ]
  },
  {
   "cell_type": "code",
   "execution_count": 28,
   "metadata": {},
   "outputs": [],
   "source": [
    "D=[{1:{1:{1:\"A\"},2:\"B\"},3:\"C\",2:\"D\",0:\"E\"}]"
   ]
  },
  {
   "cell_type": "code",
   "execution_count": 48,
   "metadata": {},
   "outputs": [
    {
     "data": {
      "text/plain": [
       "'B'"
      ]
     },
     "execution_count": 48,
     "metadata": {},
     "output_type": "execute_result"
    }
   ],
   "source": [
    "D[0][1][2]"
   ]
  },
  {
   "cell_type": "code",
   "execution_count": 31,
   "metadata": {},
   "outputs": [
    {
     "data": {
      "text/plain": [
       "[{'x': 101, 'y': 203, 'z': 0},\n",
       " {'x': 105, 'y': 303, 'z': 10},\n",
       " {'x': 108, 'y': 103, 'z': 20}]"
      ]
     },
     "execution_count": 31,
     "metadata": {},
     "output_type": "execute_result"
    }
   ],
   "source": [
    "posiciones=[{\"x\":101,\"y\":203,\"z\":0},\n",
    "            {\"x\":105,\"y\":303,\"z\":10},\n",
    "            {\"x\":108,\"y\":103,\"z\":20}]\n",
    "posiciones"
   ]
  },
  {
   "cell_type": "code",
   "execution_count": 32,
   "metadata": {},
   "outputs": [
    {
     "data": {
      "text/plain": [
       "(108, 103, 20)"
      ]
     },
     "execution_count": 32,
     "metadata": {},
     "output_type": "execute_result"
    }
   ],
   "source": [
    "tupla_nueva=(posiciones[2][\"x\"],posiciones[2][\"y\"],posiciones[2][\"z\"])\n",
    "tupla_nueva"
   ]
  },
  {
   "cell_type": "code",
   "execution_count": null,
   "metadata": {},
   "outputs": [],
   "source": []
  }
 ],
 "metadata": {
  "interpreter": {
   "hash": "1f584d1f2099a3b6b1aabed6fa6c4f9531bcc1f97f929a8d4f3fbf52265911e6"
  },
  "kernelspec": {
   "display_name": "Python 3.9.1 64-bit ('myenv': conda)",
   "name": "python3"
  },
  "language_info": {
   "codemirror_mode": {
    "name": "ipython",
    "version": 3
   },
   "file_extension": ".py",
   "mimetype": "text/x-python",
   "name": "python",
   "nbconvert_exporter": "python",
   "pygments_lexer": "ipython3",
   "version": "3.9.1"
  },
  "orig_nbformat": 4
 },
 "nbformat": 4,
 "nbformat_minor": 2
}
