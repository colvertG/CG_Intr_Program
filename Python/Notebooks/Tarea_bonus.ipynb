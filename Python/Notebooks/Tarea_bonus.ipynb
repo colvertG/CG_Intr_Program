{
 "cells": [
  {
   "cell_type": "markdown",
   "metadata": {},
   "source": [
    "# 15 puntos extras antes del 2 de diciembre"
   ]
  },
  {
   "cell_type": "markdown",
   "metadata": {},
   "source": [
    "1. Escriba un programa que escriba los números del 10 al 1"
   ]
  },
  {
   "cell_type": "markdown",
   "metadata": {},
   "source": [
    "2. Escriba un programa que obtenga la suma del 1 al número ingresado por el usuario"
   ]
  },
  {
   "cell_type": "markdown",
   "metadata": {},
   "source": [
    "3. Escriba un programa que obtenga la suma de un rango de números, el usuario ingresa dos números\n",
    "Ejemplo 1:\n",
    "n1: 5\n",
    "n2: 3\n",
    "La suma del 3 al 5 es 12\n",
    "Ejemplo 2:\n",
    "n1: 3\n",
    "n2: 5\n",
    "La suma del 3 al 5 es 12\n",
    "Ejemplo 3:\n",
    "n1: 5\n",
    "n2: 3\n",
    "No los ingresaste en el orden correcto"
   ]
  },
  {
   "cell_type": "markdown",
   "metadata": {},
   "source": [
    "4. Escriba un programa que obtenga la suma de un rango de números pares\n",
    "Ejemplo\n",
    "n1 5 \n",
    "n2 10\n",
    "internamente:\n",
    "6+8+10\n",
    "Resultado: 24"
   ]
  },
  {
   "cell_type": "markdown",
   "metadata": {},
   "source": [
    "5. Escriba obtenga la suma de un rango de números impares\n",
    "Ejemplo\n",
    "n1 5 \n",
    "n2 10\n",
    "internamente:\n",
    "5+7+11\n",
    "Resultado: 24"
   ]
  },
  {
   "cell_type": "markdown",
   "metadata": {},
   "source": [
    "6. Escriba un programa que obtenga la suma de números ingresados, el usuario sigue introduciendo números hasta que sea negativo\n",
    "Ejemplo:\n",
    "2, 1, 2, 2, 1, -5\n",
    "Resultado: 8"
   ]
  },
  {
   "cell_type": "markdown",
   "metadata": {},
   "source": [
    "7. Escriba un programa donde el usuario ingrese un rango, imprima los números pares que existen. Validar que el primer número es menor, pedir nuevamente el segundo número hasta que sea mayor."
   ]
  },
  {
   "cell_type": "markdown",
   "metadata": {},
   "source": [
    "8. Escriba un programa que diga si un número es primo o no"
   ]
  },
  {
   "cell_type": "markdown",
   "metadata": {},
   "source": [
    "9. Realice un programa que pida al usuario edades, y obtenga el promedio. Asegure que el rango de edad sea entre 0.1 y 120 años, finalice la captura cuando se ingrese un -1"
   ]
  },
  {
   "cell_type": "markdown",
   "metadata": {},
   "source": [
    "10. Realice un programa que pida al usuario números positivos y negativos, finaliza la captura con un cero. El resultado debe mostrar el número menor y mayor introducidos"
   ]
  },
  {
   "cell_type": "markdown",
   "metadata": {},
   "source": [
    "11. Escriba un programa que pregunte la cantidad de números a ingresar, diga cuántos fueron negativos"
   ]
  },
  {
   "cell_type": "markdown",
   "metadata": {},
   "source": [
    "12. Escriba un programa que pida una cantidad de números, y diga cuál es el menor y cuál el mayor"
   ]
  },
  {
   "cell_type": "markdown",
   "metadata": {},
   "source": [
    "13. Escriba un programa que pida una cantidad de números, obtenga la suma de los positivos y el promedio de los negativos. Considerar la posibilidad de divisiones entre cero."
   ]
  },
  {
   "cell_type": "markdown",
   "metadata": {},
   "source": [
    "14. Escriba un programa que pida un número y diga cuántos dígitos tiene"
   ]
  },
  {
   "cell_type": "markdown",
   "metadata": {},
   "source": [
    "15. Escriba un programa que pida un nombre y diga cuántas vocales tiene"
   ]
  },
  {
   "cell_type": "markdown",
   "metadata": {},
   "source": [
    "16. Escriba un programa que pida una frase y diga cuántas vocales de cada una tiene"
   ]
  },
  {
   "cell_type": "markdown",
   "metadata": {},
   "source": [
    "17. Escriba un programa que pida una frase y diga si es palíndromo\n",
    "Ejemplo:\n",
    "Escribe una frase para saber si es palíndromo\n",
    "Frase: anita lava la tina"
   ]
  }
 ],
 "metadata": {
  "language_info": {
   "name": "python"
  },
  "orig_nbformat": 4
 },
 "nbformat": 4,
 "nbformat_minor": 2
}
