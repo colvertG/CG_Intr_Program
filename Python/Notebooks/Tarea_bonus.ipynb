{
 "cells": [
  {
   "cell_type": "markdown",
   "metadata": {},
   "source": [
    "# Colvert Gomez Rubio"
   ]
  },
  {
   "cell_type": "markdown",
   "metadata": {},
   "source": [
    "1. Escriba un programa que escriba los números del 10 al 1"
   ]
  },
  {
   "cell_type": "code",
   "execution_count": 2,
   "metadata": {},
   "outputs": [
    {
     "name": "stdout",
     "output_type": "stream",
     "text": [
      "10\n",
      "9\n",
      "8\n",
      "7\n",
      "6\n",
      "5\n",
      "4\n",
      "3\n",
      "2\n",
      "1\n"
     ]
    }
   ],
   "source": [
    "for n in range(10,0,-1):\n",
    "    print(n)"
   ]
  },
  {
   "cell_type": "markdown",
   "metadata": {},
   "source": [
    "2.\tEscriba un programa que obtenga la suma del 1 al número ingresado por el usuario"
   ]
  },
  {
   "cell_type": "code",
   "execution_count": 144,
   "metadata": {},
   "outputs": [
    {
     "name": "stdout",
     "output_type": "stream",
     "text": [
      "la suma es:  6\n"
     ]
    }
   ],
   "source": [
    "suma=0\n",
    "num=int(input(\"Ingrese un númerp para hacer la sumatoria\"))\n",
    "for n in range (1,num+1):\n",
    "    suma=suma+n\n",
    "print(\"la suma es: \",suma)"
   ]
  },
  {
   "cell_type": "markdown",
   "metadata": {},
   "source": [
    "3. Escriba un programa que obtenga la suma de un rango de números, el usuario ingresa dos números\n",
    "Ejemplo 1:\n",
    "n1: 5\n",
    "n2: 3\n",
    "La suma del 3 al 5 es 12\n",
    "Ejemplo 2:\n",
    "n1: 3\n",
    "n2: 5\n",
    "La suma del 3 al 5 es 12\n",
    "Ejemplo 3:\n",
    "n1: 5\n",
    "n2: 3\n",
    "No los ingresaste en el orden correcto"
   ]
  },
  {
   "cell_type": "code",
   "execution_count": 12,
   "metadata": {},
   "outputs": [
    {
     "name": "stdout",
     "output_type": "stream",
     "text": [
      "La suma del rango de 3 y 5 es 12\n"
     ]
    }
   ],
   "source": [
    "n1=int(input(\"Ingrese el 1er número entero\"))\n",
    "n2=int(input(\"Ingrese el 2do número entero\"))\n",
    "mini = min(n1,n2)\n",
    "maxi = max(n1,n2)\n",
    "cont=0\n",
    "for n in range(mini,maxi+1):\n",
    "    cont=cont+n\n",
    "print(\"La suma del rango entre {} y {} es {}\".format(mini,maxi,cont))"
   ]
  },
  {
   "cell_type": "markdown",
   "metadata": {},
   "source": [
    "4. Escriba un programa que obtenga la suma de un rango de números pares\n",
    "Ejemplo\n",
    "n1 5 \n",
    "n2 10\n",
    "internamente:\n",
    "6+8+10\n",
    "Resultado: 24"
   ]
  },
  {
   "cell_type": "code",
   "execution_count": 13,
   "metadata": {},
   "outputs": [
    {
     "name": "stdout",
     "output_type": "stream",
     "text": [
      "La suma de los pares en el rango entre 5 y 10 es 24\n"
     ]
    }
   ],
   "source": [
    "n1=int(input(\"Ingrese el 1er número entero\"))\n",
    "n2=int(input(\"Ingrese el 2do número entero\"))\n",
    "mini = min(n1,n2)\n",
    "maxi = max(n1,n2)\n",
    "cont=0\n",
    "for n in range(mini,maxi+1):\n",
    "    if n%2==0:\n",
    "        cont=cont+n\n",
    "print(\"La suma de los pares en el rango entre {} y {} es {}\".format(mini,maxi,cont))"
   ]
  },
  {
   "cell_type": "markdown",
   "metadata": {},
   "source": [
    "5. Escriba obtenga la suma de un rango de números impares\n",
    "Ejemplo\n",
    "n1 5 \n",
    "n2 10\n",
    "internamente:\n",
    "5+7+9\n",
    "Resultado: 21"
   ]
  },
  {
   "cell_type": "code",
   "execution_count": 15,
   "metadata": {},
   "outputs": [
    {
     "name": "stdout",
     "output_type": "stream",
     "text": [
      "5\n",
      "7\n",
      "9\n",
      "La suma de los impares en el rango entre 5 y 10 es 21\n"
     ]
    }
   ],
   "source": [
    "n1=int(input(\"Ingrese el 1er número entero\"))\n",
    "n2=int(input(\"Ingrese el 2do número entero\"))\n",
    "mini = min(n1,n2)\n",
    "maxi = max(n1,n2)\n",
    "cont=0\n",
    "for n in range(mini,maxi+1):\n",
    "    if n%2!=0:\n",
    "        cont=cont+n\n",
    "        print(n)\n",
    "print(\"La suma de los impares en el rango entre {} y {} es {}\".format(mini,maxi,cont))"
   ]
  },
  {
   "cell_type": "markdown",
   "metadata": {},
   "source": [
    "6. Escriba un programa que obtenga la suma de números ingresados, el usuario sigue introduciendo números hasta que sea negativo\n",
    "Ejemplo:\n",
    "2, 1, 2, 2, 1, -5\n",
    "Resultado: 8"
   ]
  },
  {
   "cell_type": "code",
   "execution_count": 139,
   "metadata": {},
   "outputs": [
    {
     "name": "stdout",
     "output_type": "stream",
     "text": [
      "La suma de los números ingresados es:  8\n"
     ]
    }
   ],
   "source": [
    "num=0\n",
    "cont=0\n",
    "while num>=0:\n",
    "    num=int(input(\"Ingrese un número entero positivo\"))\n",
    "    if num>0:\n",
    "        cont=cont+num\n",
    "print(\"La suma de los números ingresados es: \",cont)"
   ]
  },
  {
   "cell_type": "markdown",
   "metadata": {},
   "source": [
    "7. Esc-51\n",
    "riba un programa donde el usuario ingrese un rango, imprima los números pares que existen. Validar que el primer número es menor, pedir nuevamente el segundo número hasta que sea mayor."
   ]
  },
  {
   "cell_type": "code",
   "execution_count": 22,
   "metadata": {},
   "outputs": [
    {
     "name": "stdout",
     "output_type": "stream",
     "text": [
      "Los números pares en el rango de 9 y 20 son: [10, 12, 14, 16, 18, 20]\n"
     ]
    }
   ],
   "source": [
    "n1=int(input(\"Ingrese el 1er número entero\"))\n",
    "n2=int(input(\"Ingrese el 2do número entero\"))\n",
    "while n2<n1:\n",
    "    n2=int(input(\"El 2do número debe ser mayor, intente de nuevo\"))\n",
    "pares=[]\n",
    "for n in range(n1,n2+1):\n",
    "    if n%2==0:\n",
    "        pares.append(n)\n",
    "print(\"Los números pares en el rango de {} y {} son: {}\".format(n1,n2,pares))"
   ]
  },
  {
   "cell_type": "markdown",
   "metadata": {},
   "source": [
    "8. Escriba un programa que diga si un número es primo o no"
   ]
  },
  {
   "cell_type": "code",
   "execution_count": 30,
   "metadata": {},
   "outputs": [
    {
     "name": "stdout",
     "output_type": "stream",
     "text": [
      "El número 79 es primo\n"
     ]
    }
   ],
   "source": [
    "num=int(input(\"Ingrese el número, le dire si es primo o no\"))\n",
    "count=0\n",
    "for n in range(1,num+1):\n",
    "    if num%n==0:\n",
    "        count=count+1\n",
    "if count==2:\n",
    "    print(\"El número {} es primo\".format(num))\n",
    "else:\n",
    "    print(\"El número {} no es primo\".format(num))"
   ]
  },
  {
   "cell_type": "markdown",
   "metadata": {},
   "source": [
    "9. Realice un programa que pida al usuario edades, y obtenga el promedio. Asegure que el rango de edad sea entre 0.1 y 120 años, finalice la captura cuando se ingrese un -1"
   ]
  },
  {
   "cell_type": "code",
   "execution_count": 60,
   "metadata": {},
   "outputs": [
    {
     "name": "stdout",
     "output_type": "stream",
     "text": [
      "Las edades que ingresaste son:  [50, 10, 87, 100, 24]\n",
      "El promedio de esas edades es:  54.2\n"
     ]
    }
   ],
   "source": [
    "edades=[]\n",
    "while edad>0.1 or edad<120:\n",
    "    edad=float(input(\"Ingresa una edad entre 0.1 y 120. (-1 finaliza el programa)\"))\n",
    "    if edad==-1:\n",
    "            break\n",
    "    while edad<0.1 or edad>120:\n",
    "        edad=float(input(\"ERROR! Ingresa una edad entre 0.1 y 120 años (-1 finaliza el programa)\"))\n",
    "        if edad==-1:\n",
    "            break\n",
    "    if edad==-1:\n",
    "        break\n",
    "    edades.append(edad)\n",
    "print(\"Las edades que ingresaste son: \",edades)\n",
    "print(\"El promedio de esas edades es: \",sum(edades)/len(edades))"
   ]
  },
  {
   "cell_type": "markdown",
   "metadata": {},
   "source": [
    "10. Realice un programa que pida al usuario números positivos y negativos, finaliza la captura con un cero. El resultado debe mostrar el número menor y mayor introducidos"
   ]
  },
  {
   "cell_type": "code",
   "execution_count": 82,
   "metadata": {},
   "outputs": [
    {
     "name": "stdout",
     "output_type": "stream",
     "text": [
      "El número menor es:  1.0\n",
      "El número mayor es:  1.0\n"
     ]
    }
   ],
   "source": [
    "numeros=[]\n",
    "num=1\n",
    "while num!=0:\n",
    "    num=float(input(\"Ingresa cualquier número positivo o negativo (0 finaliza el programa)\"))\n",
    "    if num==0:\n",
    "        break\n",
    "    numeros.append(num)\n",
    "if len(numeros)>0:\n",
    "    print(\"El número menor es: \",min(numeros))\n",
    "    print(\"El número mayor es: \",max(numeros))"
   ]
  },
  {
   "cell_type": "markdown",
   "metadata": {},
   "source": [
    "11. Escriba un programa que pregunte la cantidad de números a ingresar, diga cuántos fueron negativos"
   ]
  },
  {
   "cell_type": "code",
   "execution_count": 148,
   "metadata": {},
   "outputs": [
    {
     "name": "stdout",
     "output_type": "stream",
     "text": [
      "Usted ingreso 2 numeros negativos\n"
     ]
    }
   ],
   "source": [
    "cant=int(input(\"Cuenatos números deseas ingresar bro?\"))\n",
    "cont=0\n",
    "for n in range(0,cant):\n",
    "    num=int(input(\"Ingresa el número \"))\n",
    "    if num<0:\n",
    "        cont=cont+1\n",
    "print(\"Usted ingreso {} numeros negativos\".format(cont))"
   ]
  },
  {
   "cell_type": "markdown",
   "metadata": {},
   "source": [
    "12. Escriba un programa que pida una cantidad de números, y diga cuál es el menor y cuál el mayor"
   ]
  },
  {
   "cell_type": "code",
   "execution_count": 152,
   "metadata": {},
   "outputs": [
    {
     "name": "stdout",
     "output_type": "stream",
     "text": [
      "El número mayor de los ingresados es:  9\n",
      "El número menor de los ingresados es:  1\n"
     ]
    }
   ],
   "source": [
    "cant=int(input(\"Cuenatos números deseas ingresar bro?\"))\n",
    "lista=[]\n",
    "for n in range(0,cant):\n",
    "    num=int(input(\"Ingresa el número \"))\n",
    "    lista.append(num)\n",
    "print(\"El número mayor de los ingresados es: \",max(lista))\n",
    "print(\"El número menor de los ingresados es: \",min(lista))\n"
   ]
  },
  {
   "cell_type": "markdown",
   "metadata": {},
   "source": [
    "13. Escriba un programa que pida una cantidad de números, obtenga la suma de los positivos y el promedio de los negativos. Considerar la posibilidad de divisiones entre cero."
   ]
  },
  {
   "cell_type": "code",
   "execution_count": 155,
   "metadata": {},
   "outputs": [
    {
     "name": "stdout",
     "output_type": "stream",
     "text": [
      "La suma de los positivos ingresados es:  10\n",
      "El promedio de los negativos ingreados es:  -3.5\n"
     ]
    }
   ],
   "source": [
    "cant=int(input(\"Cuenatos números deseas ingresar bro?\"))\n",
    "lista_pos=[]\n",
    "lista_neg=[]\n",
    "for n in range(0,cant):\n",
    "    num=int(input(\"Ingresa el número \"))\n",
    "    if num>=0:\n",
    "        lista_pos.append(num)\n",
    "    else:\n",
    "        lista_neg.append(num)    \n",
    "print(\"La suma de los positivos ingresados es: \",sum(lista_pos))\n",
    "try:\n",
    "    print(\"El promedio de los negativos ingreados es: \",sum(lista_neg)/len(lista_neg))\n",
    "except:\n",
    "    print(\"Usted no ingreso números negativos\")"
   ]
  },
  {
   "cell_type": "markdown",
   "metadata": {},
   "source": [
    "14. Escriba un programa que pida un número y diga cuántos dígitos tiene"
   ]
  },
  {
   "cell_type": "code",
   "execution_count": 164,
   "metadata": {},
   "outputs": [
    {
     "name": "stdout",
     "output_type": "stream",
     "text": [
      "El número ingresado tiene 9 digitos\n"
     ]
    }
   ],
   "source": [
    "numero=int(input(\"Ingresa un número entero, te dire cuantos digitos tiene. (En caso de que ingreses un numero con decimales solo tomare el entero)\"))\n",
    "print(\"El número ingresado tiene {} digitos\".format(len(str(numero))))"
   ]
  },
  {
   "cell_type": "markdown",
   "metadata": {},
   "source": [
    "15. Escriba un programa que pida un nombre y diga cuántas vocales tiene"
   ]
  },
  {
   "cell_type": "code",
   "execution_count": 171,
   "metadata": {},
   "outputs": [
    {
     "name": "stdout",
     "output_type": "stream",
     "text": [
      "El nombre (o palabra) 'COLVERT gOMez' ingresado tiene: 4 vocales\n"
     ]
    }
   ],
   "source": [
    "vocales=(\"a\",\"e\",\"i\",\"o\",\"u\",\"A\",\"E\",\"I\",\"O\",\"U\")\n",
    "nombre=input(\"Ingresa un nombre\")\n",
    "cont=0\n",
    "for n in nombre:\n",
    "    if n in vocales:\n",
    "        cont=cont+1\n",
    "print(\"El nombre (o palabra): '{}' ingresado tiene: {} vocales\".format(nombre,cont))  "
   ]
  },
  {
   "cell_type": "markdown",
   "metadata": {},
   "source": [
    "16. Escriba un programa que pida una frase y diga cuántas vocales de cada una tiene"
   ]
  },
  {
   "cell_type": "code",
   "execution_count": 175,
   "metadata": {},
   "outputs": [
    {
     "name": "stdout",
     "output_type": "stream",
     "text": [
      "El nombre (o palabra): 'Colvert Gomez Rubio' ingresado tiene: 2 'e'\n",
      "El nombre (o palabra): 'Colvert Gomez Rubio' ingresado tiene: 1 'i'\n",
      "El nombre (o palabra): 'Colvert Gomez Rubio' ingresado tiene: 3 'o'\n",
      "El nombre (o palabra): 'Colvert Gomez Rubio' ingresado tiene: 1 'u'\n"
     ]
    }
   ],
   "source": [
    "nombre=input(\"Ingresa un nombre\")\n",
    "cont_a=0\n",
    "cont_e=0\n",
    "cont_i=0\n",
    "cont_o=0\n",
    "cont_u=0\n",
    "for n in nombre:\n",
    "    if n ==\"a\" or n==\"A\":\n",
    "        cont_a=cont_a+1\n",
    "    if n ==\"e\" or n==\"E\":\n",
    "        cont_e=cont_e+1\n",
    "    if n ==\"i\" or n==\"I\":\n",
    "        cont_i=cont_i+1\n",
    "    if n ==\"o\" or n==\"O\":\n",
    "        cont_o=cont_o+1\n",
    "    if n ==\"u\" or n==\"U\":\n",
    "        cont_u=cont_u+1\n",
    "if cont_a>0:\n",
    "    print(\"El nombre (o palabra): '{}' ingresado tiene: {} 'a'\".format(nombre,cont_a))  \n",
    "if cont_e>0:\n",
    "    print(\"El nombre (o palabra): '{}' ingresado tiene: {} 'e'\".format(nombre,cont_e))\n",
    "if cont_i>0:\n",
    "    print(\"El nombre (o palabra): '{}' ingresado tiene: {} 'i'\".format(nombre,cont_i))\n",
    "if cont_o>0:\n",
    "    print(\"El nombre (o palabra): '{}' ingresado tiene: {} 'o'\".format(nombre,cont_o))\n",
    "if cont_u>0:\n",
    "    print(\"El nombre (o palabra): '{}' ingresado tiene: {} 'u'\".format(nombre,cont_u))"
   ]
  },
  {
   "cell_type": "markdown",
   "metadata": {},
   "source": [
    "17. Escriba un programa que pida una frase y diga si es palíndromo\n",
    "Ejemplo:\n",
    "Escribe una frase para saber si es palíndromo\n",
    "Frase: anita lava la tina"
   ]
  },
  {
   "cell_type": "code",
   "execution_count": 183,
   "metadata": {},
   "outputs": [
    {
     "name": "stdout",
     "output_type": "stream",
     "text": [
      "< Anita lava la tina > es un palindromo\n"
     ]
    }
   ],
   "source": [
    "txt = input(\"Ingresa tu texto\")\n",
    "min_txt = str.lower(txt)\n",
    "new_txt=min_txt.replace(\" \",\"\")\n",
    "inv_txt=\"\"\n",
    "for i in range(len(new_txt),0,-1):\n",
    "    inv_txt = inv_txt+new_txt[i-1:i]\n",
    "if inv_txt==new_txt:\n",
    "    print(\"<\",txt,\"> es un palindromo\")\n",
    "else:\n",
    "    print(\"<\",txt,\"> no es un palindromo\")"
   ]
  },
  {
   "cell_type": "markdown",
   "metadata": {},
   "source": [
    "16. Elaborar un algoritmo que encuentre la desviación típica de un grupo de datos positivos. Genere un tipo de dato que contenga al menos 20 elementos positivios.\n"
   ]
  },
  {
   "cell_type": "code",
   "execution_count": 9,
   "metadata": {},
   "outputs": [
    {
     "name": "stdout",
     "output_type": "stream",
     "text": [
      "[30, 3, 50, 73, 33, 35, 38, 59, 2, 13, 84, 97, 27, 2, 13, 27, 91, 16, 51]\n",
      "La desviacón estandar de 20 elementos generados del 1 al 100 de forma aleatoria con la libreria random es 29.245356190782868\n"
     ]
    }
   ],
   "source": [
    "import random\n",
    "import math\n",
    "list=[]\n",
    "num=20\n",
    "for n in range(1,num):\n",
    "    list.append(random.randint(1,100))\n",
    "mean = sum(list)/len(list)\n",
    "var = sum((l-mean)**2 for l in list)/len(list)\n",
    "std = math.sqrt(var)\n",
    "print(list)\n",
    "print(\"La desviacón estandar de {} elementos generados del 1 al 100 de forma aleatoria con la libreria random es: {}\".format(num,std))"
   ]
  },
  {
   "cell_type": "markdown",
   "metadata": {},
   "source": [
    "17. Se desea obtener el promedio de N grupos que están en un mismo año escolar, sabiendo que cada grupo puede tener M estudiantes, cada alumno puede cursar K materias y en todas las asignaturas se promedian tres calificaciones. Hacer un algoritmo que calcule el promedio de cada estudiante, el promedio de cada grupo y el promedio de los grupos. Genere un tipo de dato que contenga al menos 10 registros de estudiantes, con su grupo, materias y 3 calificaciones para cada materia."
   ]
  },
  {
   "cell_type": "code",
   "execution_count": 133,
   "metadata": {},
   "outputs": [
    {
     "name": "stdout",
     "output_type": "stream",
     "text": [
      "Diccionario generado:  {'Estudiante 1': {'Grupo': 3, 'Materias': {'Programacion': [8, 5, 10], 'Cartografia': [10, 9, 9], 'Matematicas': [8, 5, 8]}}, 'Estudiante 2': {'Grupo': 2, 'Materias': {'Programacion': [9, 5, 8], 'Cartografia': [9, 10, 9], 'Matematicas': [8, 8, 6]}}, 'Estudiante 3': {'Grupo': 1, 'Materias': {'Programacion': [7, 6, 6], 'Cartografia': [8, 5, 10], 'Matematicas': [5, 8, 6]}}, 'Estudiante 4': {'Grupo': 2, 'Materias': {'Programacion': [5, 8, 10], 'Cartografia': [8, 8, 7], 'Matematicas': [9, 10, 9]}}, 'Estudiante 5': {'Grupo': 1, 'Materias': {'Programacion': [7, 5, 8], 'Cartografia': [9, 6, 8], 'Matematicas': [8, 5, 10]}}, 'Estudiante 6': {'Grupo': 2, 'Materias': {'Programacion': [10, 7, 8], 'Cartografia': [9, 8, 8], 'Matematicas': [7, 6, 8]}}, 'Estudiante 7': {'Grupo': 3, 'Materias': {'Programacion': [7, 7, 10], 'Cartografia': [8, 10, 5], 'Matematicas': [9, 9, 6]}}, 'Estudiante 8': {'Grupo': 1, 'Materias': {'Programacion': [5, 7, 9], 'Cartografia': [10, 5, 9], 'Matematicas': [7, 6, 9]}}, 'Estudiante 9': {'Grupo': 3, 'Materias': {'Programacion': [10, 5, 8], 'Cartografia': [7, 9, 9], 'Matematicas': [9, 5, 6]}}, 'Estudiante 10': {'Grupo': 3, 'Materias': {'Programacion': [7, 7, 6], 'Cartografia': [6, 5, 5], 'Matematicas': [8, 8, 9]}}}\n",
      "\n",
      "\n",
      "Promedio del estudiante 1: 8.0\n",
      "Promedio del estudiante 2: 8.0\n",
      "Promedio del estudiante 3: 6.777777777777778\n",
      "Promedio del estudiante 4: 8.222222222222223\n",
      "Promedio del estudiante 5: 7.333333333333333\n",
      "Promedio del estudiante 6: 7.888888888888889\n",
      "Promedio del estudiante 7: 7.888888888888889\n",
      "Promedio del estudiante 8: 7.444444444444444\n",
      "Promedio del estudiante 9: 7.555555555555556\n",
      "Promedio del estudiante 10: 6.777777777777779\n",
      "\n",
      "\n",
      "El promedio del grupo 1 es:  7.185185185185184\n",
      "El promedio del grupo 2 es:  8.037037037037036\n",
      "El promedio del grupo 3 es:  7.555555555555556\n",
      "\n",
      "\n",
      "El promedio de todos los grupos es:  7.592592592592593\n"
     ]
    }
   ],
   "source": [
    "#Generando el diccionario\n",
    "import random\n",
    "N=[1,2,3] #Grupos\n",
    "M=10 #Estudiantes\n",
    "K=[\"Programacion\",\"Cartografia\",\"Matematicas\"] #Materias\n",
    "dict={}\n",
    "for m in range(1,M+1):\n",
    "    dict[\"Estudiante \"+str(m)]={\"Grupo\":random.choice(N),\"Materias\":{K[0]:[random.randint(5,10) for j in range(1,4)],K[1]:[random.randint(5,10) for j in range(1,4)],K[2]:[random.randint(5,10) for j in range(1,4)]}}\n",
    "print(\"Diccionario generado: \",dict)\n",
    "print(\"\\n\")\n",
    "\n",
    "#Promedio por estudiante:\n",
    "calif_est=[]\n",
    "for m in range(1,11): \n",
    "    cont=0\n",
    "    for k in K:\n",
    "        cont=cont+sum(dict[\"Estudiante \"+str(m)][\"Materias\"][k])/len(dict[\"Estudiante \"+str(m)][\"Materias\"][k])\n",
    "    mean=cont/len(K)\n",
    "    calif_est.append(mean)\n",
    "    print(\"Promedio del estudiante {}: {}\".format(m,mean))\n",
    "print(\"\\n\")\n",
    "\n",
    "#Lista de grupos\n",
    "lista_grupos=[]\n",
    "for m,n in zip(range(1,m+1),range(0,10)):\n",
    "    lista_grupos.append([dict[\"Estudiante \"+str(m)][\"Grupo\"],calif_est[n]])\n",
    "    \n",
    "#Promedio por grupos\n",
    "sum_grupo_1=0\n",
    "cont_grupo_1=0\n",
    "sum_grupo_2=0\n",
    "cont_grupo_2=0\n",
    "sum_grupo_3=0\n",
    "cont_grupo_3=0\n",
    "for n in range(0,10):\n",
    "    if lista_grupos[n][0]==1:\n",
    "        sum_grupo_1+=lista_grupos[n][1]\n",
    "        cont_grupo_1+=1\n",
    "    if lista_grupos[n][0]==2:\n",
    "        sum_grupo_2+=lista_grupos[n][1]\n",
    "        cont_grupo_2+=1\n",
    "    if lista_grupos[n][0]==3:\n",
    "        sum_grupo_3+=lista_grupos[n][1]\n",
    "        cont_grupo_3+=1\n",
    "mean_grpo_1=sum_grupo_1/cont_grupo_1\n",
    "mean_grpo_2=sum_grupo_2/cont_grupo_2\n",
    "mean_grpo_3=sum_grupo_3/cont_grupo_3\n",
    "print(\"El promedio del grupo 1 es: \",mean_grpo_1)\n",
    "print(\"El promedio del grupo 2 es: \",mean_grpo_2)\n",
    "print(\"El promedio del grupo 3 es: \",mean_grpo_3)\n",
    "print(\"\\n\")\n",
    "\n",
    "#Promedio de todos los grupos\n",
    "print(\"El promedio de todos los grupos es: \",(mean_grpo_1+mean_grpo_2+mean_grpo_3)/3)"
   ]
  },
  {
   "cell_type": "markdown",
   "metadata": {},
   "source": [
    "18. A lo largo de un día un cajero procesa a las personas que llegan a efectuar movimientos bancarios. Estos movimientos son esencialmente abonos y retiros. Determinar la cantidad total de dinero obtenido por concepto de abonos y retiros en todo el día, lo mismo que un balance que indique si hubo más retiros que consignaciones y la diferencia absoluta. Genere un tipo de dato que contenga al menos 15 registros de los movimientos de un día. "
   ]
  },
  {
   "cell_type": "code",
   "execution_count": 218,
   "metadata": {},
   "outputs": [
    {
     "name": "stdout",
     "output_type": "stream",
     "text": [
      "{'Retiros': [2800, 5000, 1100, 3700, 5800, 1200, 3800, 2700, 100, 5100, 6200], 'Depositos': [800, 4800, 4500, 7500, 6700, 9800, 2600, 2700, 1800, 100, 2100, 8100]}\n",
      "El día de hoy recibimos 51500 por concepto de 'depositos'\n",
      "El día de hoy se retiro 37500 por concepto de 'retiros'\n",
      "El día de hoy hubo mas depositos que retiros, en resumen 14000 mas\n"
     ]
    }
   ],
   "source": [
    "#Generando los datos:\n",
    "num_retiros=random.randint(8,15) #Establezco el número de retiros entre 8 y 15 (Se puede modificar)\n",
    "num_depositos=random.randint(8,15) #Establezco el número de depositos entre 8 y 15 (Se puede modificar)\n",
    "cajero_dict={\"Retiros\":[random.randrange(100,7000,100) for j in range(0,num_retiros)],\"Depositos\":[random.randrange(100,10000,100) for j in range(0,num_depositos)]}\n",
    "print(cajero_dict)\n",
    "depositos_dia=sum(cajero_dict[\"Depositos\"])\n",
    "retiros_dia=sum(cajero_dict[\"Retiros\"])\n",
    "print(\"El día de hoy recibimos {} por concepto de 'depositos'\".format(depositos_dia))\n",
    "print(\"El día de hoy se retiro {} por concepto de 'retiros'\".format(retiros_dia))\n",
    "if depositos_dia>retiros_dia:\n",
    "    print(\"El día de hoy hubo mas depositos que retiros, en resumen {} mas\".format(depositos_dia - retiros_dia))\n",
    "else:\n",
    "    print(\"El día de hoy hubo mas retiros que depositos, en resumen {} mas\".format(retiros_dia - depositos_dia))\n"
   ]
  },
  {
   "cell_type": "code",
   "execution_count": 211,
   "metadata": {},
   "outputs": [
    {
     "data": {
      "text/plain": [
       "1800"
      ]
     },
     "execution_count": 211,
     "metadata": {},
     "output_type": "execute_result"
    }
   ],
   "source": [
    "random.randrange(0,10000,100)"
   ]
  },
  {
   "cell_type": "markdown",
   "metadata": {},
   "source": [
    "\n",
    "19. En un curso se practican 4 evaluaciones con los siguientes porcentajes: 25%, 20%, 25% y 30%, respectivamente. Por cada estudiante se informa código y las cuatro notas. Hacer un algoritmo que calcule la nota definitiva de cada estudiante, el promedio de notas definitivas del curso y el porcentaje de aprobados. Genere un tipo de dato que contenga al menos 10 registros de estudiantes con sus respectivas cuatro calificaciones.\n",
    "\n",
    "Nota: En todos los problemas puede utilizar la librería random para asignar valores, también puede proponerlos. No puede utilizar funciones especiales para promedio, desviación estándar, etc."
   ]
  },
  {
   "cell_type": "markdown",
   "metadata": {},
   "source": [
    "16. Elaborar un algoritmo que encuentre la desviación típica de un grupo de datos positivos. Genere un tipo de dato que contenga al menos 20 elementos positivios.\n",
    "\n",
    "17. Se desea obtener el promedio de N grupos que están en un mismo año escolar, sabiendo que cada grupo puede tener M estudiantes, cada alumno puede cursar K materias y en todas las asignaturas se promedian tres calificaciones. Hacer un algoritmo que calcule el promedio de cada estudiante, el promedio de cada grupo y el promedio de los grupos. Genere un tipo de dato que contenga al menos 10 registros de estudiantes, con su grupo, materias y 3 calificaciones para cada materia.\n",
    "\n",
    "18. A lo largo de un día un cajero procesa a las personas que llegan a efectuar movimientos bancarios. Estos movimientos son esencialmente abonos y retiros. Determinar la cantidad total de dinero obtenido por concepto de abonos y retiros en todo el día, lo mismo que un balance que indique si hubo más retiros que consignaciones y la diferencia absoluta. Genere un tipo de dato que contenga al menos 15 registros de los movimientos de un día. \n",
    "\n",
    "19. En un curso se practican 4 evaluaciones con los siguientes porcentajes: 25%, 20%, 25% y 30%, respectivamente. Por cada estudiante se informa código y las cuatro notas. Hacer un algoritmo que calcule la nota definitiva de cada estudiante, el promedio de notas definitivas del curso y el porcentaje de aprobados. Genere un tipo de dato que contenga al menos 10 registros de estudiantes con sus respectivas cuatro calificaciones.\n",
    "\n",
    "Nota: En todos los problemas puede utilizar la librería random para asignar valores, también puede proponerlos. No puede utilizar funciones especiales para promedio, desviación estándar, etc."
   ]
  }
 ],
 "metadata": {
  "interpreter": {
   "hash": "1f584d1f2099a3b6b1aabed6fa6c4f9531bcc1f97f929a8d4f3fbf52265911e6"
  },
  "kernelspec": {
   "display_name": "Python 3.9.1 64-bit ('myenv': conda)",
   "name": "python3"
  },
  "language_info": {
   "codemirror_mode": {
    "name": "ipython",
    "version": 3
   },
   "file_extension": ".py",
   "mimetype": "text/x-python",
   "name": "python",
   "nbconvert_exporter": "python",
   "pygments_lexer": "ipython3",
   "version": "3.9.1"
  },
  "orig_nbformat": 4
 },
 "nbformat": 4,
 "nbformat_minor": 2
}
