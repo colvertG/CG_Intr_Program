{
 "cells": [
  {
   "cell_type": "markdown",
   "metadata": {},
   "source": [
    "1. Pedir un día de la semana al usuario, asegurar que sea\n",
    "lunes, martes, miércoles, jueves, viernes, sábado o domingo.\n",
    "Tip: pedir con opciones\n",
    "Y preguntar si se encuentra de vacaciones\n",
    "Indicarle al usuario que puede dormir hasta tarde, \n",
    "si es fin de semana o está de vacaciones"
   ]
  },
  {
   "cell_type": "code",
   "execution_count": 1,
   "metadata": {},
   "outputs": [
    {
     "name": "stdout",
     "output_type": "stream",
     "text": [
      "No puedes dormir hasta tarde\n"
     ]
    }
   ],
   "source": [
    "#Ingreso de datos tipo str en minúscula\n",
    "dia=input('Ingresa el día de la semana ')\n",
    "dia=dia.lower()\n",
    "vacaciones=input('¿Se encuentra de vacaciones, si o no? ')\n",
    "vaciones=vacaciones.lower()\n",
    "#Comparaciones \n",
    "if (dia=='sabado' or dia=='sábado' or dia=='domingo' or vacaciones=='si'):\n",
    "    print('Puedes dormir hasta tarde')\n",
    "elif (vacaciones!='si' and vacaciones!='no'):\n",
    "    print('Opción no válida en vacaciones')\n",
    "elif (dia!='lunes' and dia!='martes' and dia!='miercoles' and dia!='miércoles' and dia!='jueves' and dia!='viernes'):\n",
    "    print('Opción no válida en día')\n",
    "else:\n",
    "    print('No puedes dormir hasta tarde')"
   ]
  },
  {
   "cell_type": "markdown",
   "metadata": {},
   "source": [
    "2. Pedir dos valores enteros, mostrar la suma de los dos, \n",
    "en caso de ser iguales regresar el doble de su suma\n",
    "Ejemplo:\n",
    "    1, 1 regresa 4\n",
    "    3, 1 regresa 4"
   ]
  },
  {
   "cell_type": "code",
   "execution_count": 6,
   "metadata": {},
   "outputs": [
    {
     "name": "stdout",
     "output_type": "stream",
     "text": [
      "La suma es  4.0\n"
     ]
    }
   ],
   "source": [
    "numero1=float(input(\"Ingresa el 1er número\"))\n",
    "numero2=float(input(\"Ingresa el 2do número\"))\n",
    "if numero1 == numero2:\n",
    "    print(\"La suma es \",(numero1+numero2)*2)\n",
    "else:\n",
    "    print(\"La suma es \",numero1+numero2)"
   ]
  },
  {
   "cell_type": "markdown",
   "metadata": {},
   "source": [
    "3. Pedir la hora en formato entero (0-23) y preguntar si existe fiesta en curso.\n",
    "Si la hora es mayor a 22 y antes de las 7, pedir al usuario\n",
    "que termine la fiesta"
   ]
  },
  {
   "cell_type": "code",
   "execution_count": 43,
   "metadata": {},
   "outputs": [
    {
     "name": "stdout",
     "output_type": "stream",
     "text": [
      "Ingresa una hora entre 0 y 23\n"
     ]
    }
   ],
   "source": [
    "fiesta = input(\"Tienes una fiesta en este momento?, si o no\")\n",
    "fiesta=fiesta.lower()\n",
    "if fiesta != \"si\" and fiesta != \"no\":\n",
    "    print(\"Ingresa un -si- ó -no-\")\n",
    "elif fiesta == \"si\":\n",
    "    hora = int(input(\"Ingresa la hora en formato de 24hrs, (0-23)\"))\n",
    "    if hora<0 or hora>23:\n",
    "        print(\"Ingresa una hora entre 0 y 23\")\n",
    "    elif hora > 22 or hora <7:\n",
    "        print(\"Finaliza tu fiesta loco\")\n",
    "    else:\n",
    "        print(\"Invita :)\")\n",
    "elif fiesta==\"no\":\n",
    "    print(\"Que aburrido!\")\n",
    "        \n"
   ]
  },
  {
   "cell_type": "markdown",
   "metadata": {},
   "source": [
    "4. Dados dos números enteros decir si la suma entre ellos es 10\n",
    "o uno de ellos es 10"
   ]
  },
  {
   "cell_type": "code",
   "execution_count": 15,
   "metadata": {},
   "outputs": [
    {
     "name": "stdout",
     "output_type": "stream",
     "text": [
      "Estan chidos tus números :)\n"
     ]
    }
   ],
   "source": [
    "numero1=float(input(\"Ingresa el 1er número\"))\n",
    "numero2=float(input(\"Ingresa el 2do número\"))\n",
    "if numero1==10 or numero2==10:\n",
    "    print(\"Uno de los números es un 10\")\n",
    "elif numero1+numero2 == 10:\n",
    "    print(\"La suma de los números es 10\")\n",
    "else:\n",
    "    print(\"Estan chidos tus números :)\")"
   ]
  },
  {
   "cell_type": "markdown",
   "metadata": {},
   "source": [
    "5. Escriba un programa que diga si un número es par o impar"
   ]
  },
  {
   "cell_type": "code",
   "execution_count": 17,
   "metadata": {},
   "outputs": [
    {
     "name": "stdout",
     "output_type": "stream",
     "text": [
      "Es impar\n"
     ]
    }
   ],
   "source": [
    "numero=int(input(\"Ingresa un número entero\"))\n",
    "if numero%2==1: \n",
    "    print(\"Es impar\")\n",
    "else:\n",
    "    print(\"Es par\")\n"
   ]
  },
  {
   "cell_type": "markdown",
   "metadata": {},
   "source": [
    "6. Escriba un programa que determine el mayor de dos números ingresados"
   ]
  },
  {
   "cell_type": "code",
   "execution_count": 23,
   "metadata": {},
   "outputs": [
    {
     "name": "stdout",
     "output_type": "stream",
     "text": [
      "El segundo número que ingresaste: 9.0 es mayor que el primero: 4.0\n"
     ]
    }
   ],
   "source": [
    "numero1=float(input(\"Ingresa el 1er número\"))\n",
    "numero2=float(input(\"Ingresa el 2do número\"))\n",
    "if numero1==numero2:\n",
    "    print(\"Los números ingresados son iguales\")\n",
    "elif numero1>numero2:\n",
    "    print(\"El primer número que ingresaste: \"+str(numero1)+\" es mayor que el segundo: \"+str(numero2))\n",
    "elif numero2>numero1:\n",
    "    print(\"El segundo número que ingresaste: \"+str(numero2)+\" es mayor que el primero: \"+str(numero1))"
   ]
  },
  {
   "cell_type": "markdown",
   "metadata": {},
   "source": [
    "7. Escriba un programa que calcule la cantidad mínima de billetes para dar en un cajero (billetes de 500, 200, 10 y 50)"
   ]
  },
  {
   "cell_type": "code",
   "execution_count": 26,
   "metadata": {},
   "outputs": [
    {
     "name": "stdout",
     "output_type": "stream",
     "text": [
      "Ingrese la cantidad a retirar, billetes disponibles: $500, $200, $100 y $50. La cantidad máxima a retirar son $7500 pesos\n",
      "La cantidad máxima a retirar es  1300\n",
      "2  billetes de 500\n",
      "1  billetes de 200\n",
      "1  billetes de 100\n"
     ]
    }
   ],
   "source": [
    "cantidad = float(input(\"Ingrese la cantidad a retirar, billetes disponibles: $500, $200, $100 y $50. La cantidad máxima a retirar son $7500 pesos\"))\n",
    "if cantidad<=7500:\n",
    "    b500 = int(cantidad/500)\n",
    "    resto = cantidad%500\n",
    "    b200 = int(resto/200)\n",
    "    resto = resto%200\n",
    "    b100 = int(resto/100)\n",
    "    resto = resto%100\n",
    "    b50 = int(resto/50)\n",
    "    resto = resto%50\n",
    "    print(\"La cantidad máxima a retirar es \",(b500*500+b200*200+b100*100+b50*50))\n",
    "    if b500>=1:\n",
    "        print(b500,\" billetes de 500\")\n",
    "    if b200>=1:\n",
    "        print(b200,\" billetes de 200\")\n",
    "    if b100>=1:\n",
    "        print(b100,\" billetes de 100\")\n",
    "    if b50>=1:\n",
    "        print(b50,\" billetes de 50\")\n",
    "else:\n",
    "    print(\"Cantidad invalida\")\n"
   ]
  },
  {
   "cell_type": "markdown",
   "metadata": {},
   "source": [
    "8. scriba un programa que pida un mes del año, e imprima un mensaje acorde a una festividad.\n",
    "Ejemplo:\n",
    "Diciembre\n",
    "¡Feliz navidad!"
   ]
  },
  {
   "cell_type": "code",
   "execution_count": 29,
   "metadata": {},
   "outputs": [
    {
     "name": "stdout",
     "output_type": "stream",
     "text": [
      "Feliz dia del padre\n"
     ]
    }
   ],
   "source": [
    "mes = input(\"Introduzca un mes del año, ejemplo: Enero\")\n",
    "mes=mes.lower()\n",
    "if mes==\"enero\":\n",
    "    print(\"Feliz año nuevo!!\")\n",
    "elif mes==\"febrero\":\n",
    "    print(\"Feliz dia del amor y la amistad!!\")\n",
    "elif mes==\"marzo\":\n",
    "    print(\"Feliz primavera!\")\n",
    "elif mes==\"abril\":\n",
    "    print(\"22 de abril, dia de la tierra!\")\n",
    "elif mes==\"mayo\":\n",
    "    print(\"Feliz dia de las madres\")\n",
    "elif mes==\"junio\":\n",
    "    print(\"Feliz dia del padre\")\n",
    "elif mes==\"julio\":\n",
    "    print(\"1ro de julio, dia del ingeniero\")\n",
    "elif mes==\"agosto\":\n",
    "    print(\"9 de agosto, día internacional de los pueblos indígenas\")\n",
    "elif mes==\"septiembre\":\n",
    "    print(\"Viva la independencia! \")\n",
    "elif mes==\"octubre\":\n",
    "    print(\"19 de octubre, día contra el cáncer de mama\")\n",
    "elif mes==\"noviembre\":\n",
    "    print(\"Felices muertos!\")\n",
    "elif mes==\"diciembre\":\n",
    "    print(\"Feliz navidad\")\n",
    "else:\n",
    "    print(\"Entrada incorrecta\")"
   ]
  },
  {
   "cell_type": "code",
   "execution_count": null,
   "metadata": {},
   "outputs": [],
   "source": []
  }
 ],
 "metadata": {
  "interpreter": {
   "hash": "1f584d1f2099a3b6b1aabed6fa6c4f9531bcc1f97f929a8d4f3fbf52265911e6"
  },
  "kernelspec": {
   "display_name": "Python 3.9.1 64-bit ('myenv': conda)",
   "name": "python3"
  },
  "language_info": {
   "codemirror_mode": {
    "name": "ipython",
    "version": 3
   },
   "file_extension": ".py",
   "mimetype": "text/x-python",
   "name": "python",
   "nbconvert_exporter": "python",
   "pygments_lexer": "ipython3",
   "version": "3.9.1"
  },
  "orig_nbformat": 4
 },
 "nbformat": 4,
 "nbformat_minor": 2
}
