{
 "cells": [
  {
   "cell_type": "markdown",
   "metadata": {},
   "source": [
    "## 01 Escriba un programa que le pida al usuario que ingrese la cantidad de kilómetros que condujo su automóvil y la cantidad de litros de gasolina que puso en su automóvil y luego imprima los kilómetros por litro de rendimiento (km/l)."
   ]
  },
  {
   "cell_type": "code",
   "execution_count": 1,
   "metadata": {},
   "outputs": [
    {
     "name": "stdout",
     "output_type": "stream",
     "text": [
      "El rendimiento de su automóvil es de 0.05[km/l]\n"
     ]
    }
   ],
   "source": [
    "lt = float(input(\"¿Cuántos litros cargo en su automóvil? \"))\n",
    "km = float(input(f\"¿Cuántos kilómetros recorrió con los {lt} litros que cargo?\"))\n",
    "print(f\"El rendimiento de su automóvil es de {km/lt}[km/l]\")"
   ]
  },
  {
   "cell_type": "markdown",
   "metadata": {},
   "source": [
    "## 02 Escribe un programa que convierta centímetros a yardas, pies y pulgadas."
   ]
  },
  {
   "cell_type": "code",
   "execution_count": 1,
   "metadata": {},
   "outputs": [
    {
     "name": "stdout",
     "output_type": "stream",
     "text": [
      "Ingrese su dato en [cm]: \n",
      "10.0 [cm] =  0.10936132983377078 [yd]\n",
      "10.0 [cm] =  0.32808398950131235 [ft]\n",
      "10.0 [cm] =  3.937007874015748 [in]\n"
     ]
    }
   ],
   "source": [
    "print(\"Ingrese su dato en [cm]: \")\n",
    "cm = float(input())\n",
    "yd = cm/91.44\n",
    "ft = cm/30.48\n",
    "u_in = cm/2.54\n",
    "print(cm,\"[cm] = \",yd,\"[yd]\")\n",
    "print(cm,\"[cm] = \",ft,\"[ft]\")\n",
    "print(cm,\"[cm] = \",u_in,\"[in]\")"
   ]
  },
  {
   "cell_type": "markdown",
   "metadata": {},
   "source": [
    "## 03 Realice un programa que pida el dividendo y el divisor, y muestre el cociente con número decimal, y además el entero con su residuo"
   ]
  },
  {
   "cell_type": "code",
   "execution_count": 2,
   "metadata": {},
   "outputs": [
    {
     "name": "stdout",
     "output_type": "stream",
     "text": [
      "Ingrese dividendo:\n",
      "Ingrese divisor:\n",
      "El cociente es:  3.3333333333333335\n",
      "El valor entero es:  3  y el residuo es:  1.0\n"
     ]
    }
   ],
   "source": [
    "print(\"Ingrese dividendo:\")\n",
    "d1 = float(input())\n",
    "print(\"Ingrese divisor:\")\n",
    "d2 = float(input())\n",
    "d3 = d1/d2\n",
    "print(\"El cociente es: \",d3)\n",
    "r = d1%d2\n",
    "print(\"El valor entero es: \",int(d3),\" y el residuo es: \",r)"
   ]
  },
  {
   "cell_type": "markdown",
   "metadata": {},
   "source": [
    "## 04 Escriba un programa que realice cambio de monedas, debe pedir el valor unitario de la conversión"
   ]
  },
  {
   "cell_type": "code",
   "execution_count": 4,
   "metadata": {},
   "outputs": [
    {
     "name": "stdout",
     "output_type": "stream",
     "text": [
      "Que unidades desea convertir: \n",
      "A que unidades las desea convertir: \n",
      "Cuantos  Pesos  cuesta un  Dolares ?\n",
      "Cuantos  Dolares  deseas convertir: \n",
      "2.0   Dolares  son  40.0 Pesos\n"
     ]
    }
   ],
   "source": [
    "print(\"Que unidades desea convertir: \")\n",
    "u1 = input()\n",
    "print(\"A que unidades las desea convertir: \")\n",
    "u2 = input()\n",
    "print(\"Cuantos \",u2,\" cuesta un \",u1,\"?\")\n",
    "v = float(input())\n",
    "print(\"Cuantos \",u1,\" deseas convertir: \")\n",
    "c = float(input())\n",
    "r = c*v/1\n",
    "print(c,\" \",u1,\" son \",r,u2)"
   ]
  },
  {
   "cell_type": "markdown",
   "metadata": {},
   "source": [
    "## 05 Escribe un programa que pide al usuario que ingrese los dos catetos de un triángulo rectángulo. El programa debería imprimir la longitud de la hipotenusa"
   ]
  },
  {
   "cell_type": "code",
   "execution_count": 6,
   "metadata": {},
   "outputs": [
    {
     "name": "stdout",
     "output_type": "stream",
     "text": [
      "Calcula el valor de la hipotenusa de un triángulo rectángulo\n",
      "Ingresa el valor del 1er cateto:\n",
      "Ingresa el valor del segundo cateto:\n",
      "La hipotenusa es:  5.830951894845301\n"
     ]
    }
   ],
   "source": [
    "import math \n",
    "print(\"Calcula el valor de la hipotenusa de un triángulo rectángulo\")\n",
    "print(\"Ingresa el valor del 1er cateto:\")\n",
    "c1 = float(input())\n",
    "print(\"Ingresa el valor del segundo cateto:\")\n",
    "c2 = float(input())\n",
    "h = math.sqrt(c1**2+c2**2)\n",
    "print(\"La hipotenusa es: \",h)"
   ]
  },
  {
   "cell_type": "markdown",
   "metadata": {},
   "source": [
    "## 06 Escribe un programa que calcule la densidad poblacional de un territorio dado"
   ]
  },
  {
   "cell_type": "code",
   "execution_count": 4,
   "metadata": {},
   "outputs": [
    {
     "name": "stdout",
     "output_type": "stream",
     "text": [
      "Este programa calcula la densidad poblacional\n",
      "De que territorio, entidad o país desea calcular la densidad?\n",
      "Ingrese la población total de  32\n",
      "Ingrese el área de  32  en [km^2]\n",
      "La desidad poblacional de  32  es de  1.0  habitantes por km^2\n"
     ]
    }
   ],
   "source": [
    "print(\"Este programa calcula la densidad poblacional\")\n",
    "print(\"De que territorio, entidad o país desea calcular la densidad?\")\n",
    "nombre = input()\n",
    "print(\"Ingrese la población total de \",nombre)\n",
    "p = float(input())\n",
    "print(\"Ingrese el área de \",nombre,\" en [km^2]\")\n",
    "km = float(input())\n",
    "d = p/km\n",
    "print(\"La desidad poblacional de \",nombre,\" es de \",round(d,2),\" habitantes por km^2\")"
   ]
  },
  {
   "cell_type": "markdown",
   "metadata": {},
   "source": [
    "## 07 Escribe un programa que pida la población de mujeres y hombres de un territorio, además determine el % de cada género y el total."
   ]
  },
  {
   "cell_type": "code",
   "execution_count": 12,
   "metadata": {},
   "outputs": [
    {
     "name": "stdout",
     "output_type": "stream",
     "text": [
      "Este programa determina el porcentaje de mujeres y hombres de un determinado territorio\n",
      "De que terrirorio desea calcular?\n",
      "Cuatos hombres hay en  México\n",
      "Cuantas mujeres hay en  México\n",
      "Del total de la población ( 626.0 ) habitantes,  32.43 % son hombres y  67.57 % son mujeres \n"
     ]
    }
   ],
   "source": [
    "print(\"Este programa determina el porcentaje de mujeres y hombres de un determinado territorio\")\n",
    "print(\"De que terrirorio desea calcular?\")\n",
    "nombre = input()\n",
    "print(\"Cuatos hombres hay en \",nombre)\n",
    "h = float(input())\n",
    "print(\"Cuantas mujeres hay en \",nombre)\n",
    "m = float(input())\n",
    "t = h+m\n",
    "p_h = (h*100)/t\n",
    "p_m = (m*100)/t\n",
    "print(\"Del total de la población (\",t,\") habitantes, \",round(p_h,2),\"% son hombres y \",round(p_m,2),\"% son mujeres \")"
   ]
  },
  {
   "cell_type": "markdown",
   "metadata": {},
   "source": [
    "## 08 Programa que determine el aumento de población (%)"
   ]
  },
  {
   "cell_type": "code",
   "execution_count": 11,
   "metadata": {},
   "outputs": [
    {
     "name": "stdout",
     "output_type": "stream",
     "text": [
      "De que terrirorio desea calcular?\n",
      "Cuatos personas habia en  Tlahuac\n",
      "Cuantas personas hay ahora en  Tlahuac\n",
      "El incremento de poblacón fue de   40.0 %\n"
     ]
    }
   ],
   "source": [
    "print(\"De que terrirorio desea calcular?\")\n",
    "nombre = input()\n",
    "print(\"Cuatos personas habia en \",nombre)\n",
    "pa = float(input())\n",
    "print(\"Cuantas personas hay ahora en \",nombre)\n",
    "pd = float(input())\n",
    "t = pd-pa\n",
    "p_a = (t*100)/pa\n",
    "print(\"El incremento de poblacón fue de  \",p_a,\"%\")"
   ]
  }
 ],
 "metadata": {
  "interpreter": {
   "hash": "1f584d1f2099a3b6b1aabed6fa6c4f9531bcc1f97f929a8d4f3fbf52265911e6"
  },
  "kernelspec": {
   "display_name": "Python 3.9.1 64-bit ('myenv': conda)",
   "name": "python3"
  },
  "language_info": {
   "codemirror_mode": {
    "name": "ipython",
    "version": 3
   },
   "file_extension": ".py",
   "mimetype": "text/x-python",
   "name": "python",
   "nbconvert_exporter": "python",
   "pygments_lexer": "ipython3",
   "version": "3.9.1"
  },
  "orig_nbformat": 4
 },
 "nbformat": 4,
 "nbformat_minor": 2
}
