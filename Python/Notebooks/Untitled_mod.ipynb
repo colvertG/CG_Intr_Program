{
 "cells": [
  {
   "cell_type": "markdown",
   "metadata": {},
   "source": [
    "#### Integrantes\n",
    "\n",
    "Baruch Sanginés\n",
    "\n",
    "Calixto Villalobos Sandra"
   ]
  },
  {
   "cell_type": "markdown",
   "metadata": {},
   "source": [
    "#### 4. Una empresa extranjera de aviación fumiga cosechas contra una gran variedad de plagas.  Los valores cobrados a los granjeros dependen de lo que éste desea fumigar y de cuántas hectáreas se fumigan, de acuerdo a la siguiente distribución:\n",
    "    \n",
    "Tipo 1: fumigación contra malas hierbas, 10 dólares por hectárea.\n",
    "\n",
    "Tipo 2. fumigación contra langostas, 15 dólares por hectárea.\n",
    "\n",
    "Tipo 3: fumigación contra gusanos, 20 dólares por hectárea.\n",
    "\n",
    "Tipo 4: fumigación contra todo lo anterior, 30 dólares por hectárea.\n",
    "\n",
    "Si el área a fumigar es mayor de 1000 hectáreas, el granjero goza de un 5% de descuento. Además, cualquier granjero cuya cuenta sobrepase los 3000 dólares se le descuenta un 10% sobre la cantidad que exceda dicho precio. Si se aplican ambos conceptos, el correspondiente a la superficie se considera primero. Por cada pedido se tiene la siguiente información: nombre del granjero, tipo de fumigación solicitada (1, 2, 3,4) y el número de hectáreas a fumigar. \n",
    "\n",
    "Genere al menos 10 registros con el nombre, tipo y cantidad de hectáreas. Agruegue el resultado del valor a pagar de cada registro."
   ]
  },
  {
   "cell_type": "code",
   "execution_count": 1,
   "id": "f0dcd065-ee27-4881-b85a-551059238894",
   "metadata": {},
   "outputs": [
    {
     "name": "stdout",
     "output_type": "stream",
     "text": [
      "[8550.0, 17442.0, 12825.0, 5400.0, 15390.0, 9000.0, 14107.5, 25650.0, 7650.0, 25650.0]\n"
     ]
    }
   ],
   "source": [
    "nombres = [\"Pepe\",\"Carlos\",\"Jose\",\"Peter\",\"Juan\",\"Fernando\",\"Roberto\",\"Alonso\",\"Marco\",\"Manuel\"] #Lista de granjeros\n",
    "tipoFumi = [1,3,2,4,1,3,2,4,1,3] #Tipo de fumigante\n",
    "numHect = [1000,1020,950,200,1800,500,1100,1000,850,1500] #Número de hectáreas\n",
    "costoFinal = [] #Costo que van a pagar \n",
    "\n",
    "for n in range (0,10): #Ciclo que recorre a todos los granjeros para ver cuanto van a pagar\n",
    "    if tipoFumi[n] == 1: #Si es tipo 1\n",
    "        costoFinal.append(10 * numHect[n]) #Se multiplica por el costo de ese tipo y así como todos los tipos\n",
    "    if tipoFumi[n] == 2:\n",
    "        costoFinal.append( 15 * numHect[n])\n",
    "    if tipoFumi[n] == 3:\n",
    "        costoFinal.append( 20 *numHect[n])\n",
    "    if tipoFumi[n] == 4:\n",
    "        costoFinal.append(30 *numHect[n])\n",
    "         \n",
    "    if numHect[n] >= 1000: #Para hacer el descuento si es más de 1000 hectáreas\n",
    "        costoFinal[n] = costoFinal[n] * 0.95 # se saca el descuento\n",
    "    if costoFinal[n] >= 3000: #Para hacer el descuento si sobrepasa los 300dls\n",
    "        costoFinal[n] = costoFinal[n] * 0.9 # se saca el descuento\n",
    "print(costoFinal) #Imprime la lista con los costos finales"
   ]
  },
  {
   "cell_type": "code",
   "execution_count": 2,
   "metadata": {},
   "outputs": [
    {
     "name": "stdout",
     "output_type": "stream",
     "text": [
      "El granjero Pepe deberá pagar: 8550.0 pesos\n",
      "El granjero Carlos deberá pagar: 17442.0 pesos\n",
      "El granjero Jose deberá pagar: 12825.0 pesos\n",
      "El granjero Peter deberá pagar: 5400.0 pesos\n",
      "El granjero Juan deberá pagar: 15390.0 pesos\n",
      "El granjero Fernando deberá pagar: 9000.0 pesos\n",
      "El granjero Roberto deberá pagar: 14107.5 pesos\n",
      "El granjero Alonso deberá pagar: 25650.0 pesos\n",
      "El granjero Marco deberá pagar: 7650.0 pesos\n",
      "El granjero Manuel deberá pagar: 25650.0 pesos\n"
     ]
    }
   ],
   "source": [
    "for i in range(0,10): #Un ciclo por para imprimir los resultados de los 10 granjeros\n",
    "    print(\"El granjero {} deberá pagar: {} pesos\".format(nombres[i],costoFinal[i])) #Imprime con ayuda del índice i"
   ]
  },
  {
   "cell_type": "code",
   "execution_count": null,
   "metadata": {},
   "outputs": [],
   "source": []
  }
 ],
 "metadata": {
  "interpreter": {
   "hash": "1f584d1f2099a3b6b1aabed6fa6c4f9531bcc1f97f929a8d4f3fbf52265911e6"
  },
  "kernelspec": {
   "display_name": "Python 3.9.1 64-bit ('myenv': conda)",
   "name": "python3"
  },
  "language_info": {
   "codemirror_mode": {
    "name": "ipython",
    "version": 3
   },
   "file_extension": ".py",
   "mimetype": "text/x-python",
   "name": "python",
   "nbconvert_exporter": "python",
   "pygments_lexer": "ipython3",
   "version": "3.9.1"
  }
 },
 "nbformat": 4,
 "nbformat_minor": 5
}
