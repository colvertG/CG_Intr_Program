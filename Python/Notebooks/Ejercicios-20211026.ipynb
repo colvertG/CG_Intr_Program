{
 "cells": [
  {
   "cell_type": "markdown",
   "metadata": {},
   "source": [
    "#### Realizar un programa que pida una cadena imprima la primera mitad de dicho string\n",
    "##### 'Hola todos y todas'\n",
    "##### 'Hola todos'"
   ]
  },
  {
   "cell_type": "code",
   "execution_count": 24,
   "metadata": {},
   "outputs": [
    {
     "name": "stdout",
     "output_type": "stream",
     "text": [
      "Hola todo\n"
     ]
    }
   ],
   "source": [
    "cad_1=str(input(\"Ingresa una frase\"))\n",
    "print(cad_1[:int(len(cad_1)/2)])"
   ]
  },
  {
   "cell_type": "markdown",
   "metadata": {},
   "source": [
    "#### Dadas dos cadenas de caracteres, hacer una nueva concatenada sin las letras inicialesde cada una\n",
    "##### cadena1='Hola mundo'\n",
    "#### cadena2='mundo'\n",
    "#### cadena3='ola mundoundo'"
   ]
  },
  {
   "cell_type": "code",
   "execution_count": 16,
   "metadata": {},
   "outputs": [
    {
     "name": "stdout",
     "output_type": "stream",
     "text": [
      "ola mundoundo\n"
     ]
    }
   ],
   "source": [
    "cad_1=input(\"Ingresa la cadena 1\")\n",
    "cad_2=input(\"Ingresa la cadena 2\")\n",
    "print(cad_1[1:]+cad_2[1:])"
   ]
  },
  {
   "cell_type": "markdown",
   "metadata": {},
   "source": [
    "#### Dada una cadena de caracteres regresar una nueva con las dos primeras letras al final\n",
    "#### cadena1='Hola mundo'\n",
    "#### resultado='la mundoHo'\n",
    "#### cadena1='do'\n",
    "#### resultado='do'\n",
    "#### cadena1='llave'\n",
    "#### resultado='avell'"
   ]
  },
  {
   "cell_type": "code",
   "execution_count": 20,
   "metadata": {},
   "outputs": [
    {
     "name": "stdout",
     "output_type": "stream",
     "text": [
      "la mundoHo\n"
     ]
    }
   ],
   "source": [
    "cad_1=input(\"Ingresa una frase\")\n",
    "print(cad_1[2:]+cad_1[:2])"
   ]
  },
  {
   "cell_type": "markdown",
   "metadata": {},
   "source": []
  }
 ],
 "metadata": {
  "interpreter": {
   "hash": "1f584d1f2099a3b6b1aabed6fa6c4f9531bcc1f97f929a8d4f3fbf52265911e6"
  },
  "kernelspec": {
   "display_name": "Python 3.9.1 64-bit ('myenv': conda)",
   "name": "python3"
  },
  "language_info": {
   "codemirror_mode": {
    "name": "ipython",
    "version": 3
   },
   "file_extension": ".py",
   "mimetype": "text/x-python",
   "name": "python",
   "nbconvert_exporter": "python",
   "pygments_lexer": "ipython3",
   "version": "3.9.1"
  },
  "orig_nbformat": 4
 },
 "nbformat": 4,
 "nbformat_minor": 2
}
