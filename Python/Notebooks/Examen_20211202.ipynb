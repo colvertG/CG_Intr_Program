{
 "cells": [
  {
   "cell_type": "markdown",
   "metadata": {},
   "source": [
    "9.\tPara un período de N años se invierten 250 mil pesos en los años impares (1, 3, 5, 7,…). Determinar el valor del capital al final cada año , con intereses del 7% anual. Genere el código para introducir la cantidad de años, y en una lista o tupla se guarde el valor capital junto con intereses cada año, además considere que los intereses se reinvierten únicamente cada año\n"
   ]
  },
  {
   "cell_type": "code",
   "execution_count": 2,
   "metadata": {},
   "outputs": [],
   "source": [
    "años=int(input(\"A cuantos años deseas calcular tu inversion (deberas invertir 250mil pesos los años 1,3,5,etc)\"))"
   ]
  },
  {
   "cell_type": "code",
   "execution_count": 12,
   "metadata": {},
   "outputs": [
    {
     "name": "stdout",
     "output_type": "stream",
     "text": [
      "[267500.0, 286225.0, 573760.75, 613924.0025, 924398.6826749999, 989106.5904622499, 1325844.0517946074, 1418653.13542023, 1785458.854899646, 1910440.9747426212]\n"
     ]
    }
   ],
   "source": [
    "inversion=0\n",
    "list_año=[]\n",
    "for n in range(1,años+1):\n",
    "    if n%2!=0:\n",
    "        inversion=inversion+250000\n",
    "    inversion=inversion+inversion*0.07\n",
    "    list_año.append(inversion)\n",
    "print(list_año)"
   ]
  },
  {
   "cell_type": "code",
   "execution_count": 23,
   "metadata": {},
   "outputs": [
    {
     "name": "stdout",
     "output_type": "stream",
     "text": [
      "{'Año 1': [250000, 17500.0, 267500.0], 'Año 2': [250000, 18725.0, 286225.0], 'Año 3': [500000, 37535.75, 573760.75], 'Año 4': [500000, 40163.2525, 613924.0025], 'Año 5': [750000, 60474.680175, 924398.6826749999], 'Año 6': [750000, 64707.90778725, 989106.5904622499], 'Año 7': [1000000, 86737.4613323575, 1325844.0517946074], 'Año 8': [1000000, 92809.08362562253, 1418653.13542023], 'Año 9': [1250000, 116805.7194794161, 1785458.854899646], 'Año 10': [1250000, 124982.11984297523, 1910440.9747426212]}\n"
     ]
    }
   ],
   "source": [
    "inversion=0\n",
    "interes=0\n",
    "inversion_interes=0\n",
    "dict_año={}\n",
    "for n in range(1,años+1):\n",
    "    if n%2!=0:\n",
    "        inversion=inversion+250000\n",
    "        inversion_interes=inversion_interes+250000    \n",
    "    interes=inversion_interes*0.07\n",
    "    inversion_interes=inversion_interes+interes\n",
    "    dict_año[\"Año \"+str(n)]=[inversion,interes,inversion_interes]\n",
    "print(dict_año)"
   ]
  },
  {
   "cell_type": "code",
   "execution_count": 28,
   "metadata": {},
   "outputs": [
    {
     "name": "stdout",
     "output_type": "stream",
     "text": [
      "Al final del año 1 usted tendra: 267500.0 pesos en total, 250000 es de capital y genero 17500.0 de intereses\n",
      "Al final del año 2 usted tendra: 286225.0 pesos en total, 250000 es de capital y genero 18725.0 de intereses\n",
      "Al final del año 3 usted tendra: 573760.75 pesos en total, 500000 es de capital y genero 37535.75 de intereses\n",
      "Al final del año 4 usted tendra: 613924.0025 pesos en total, 500000 es de capital y genero 40163.2525 de intereses\n",
      "Al final del año 5 usted tendra: 924398.6826749999 pesos en total, 750000 es de capital y genero 60474.680175 de intereses\n",
      "Al final del año 6 usted tendra: 989106.5904622499 pesos en total, 750000 es de capital y genero 64707.90778725 de intereses\n",
      "Al final del año 7 usted tendra: 1325844.0517946074 pesos en total, 1000000 es de capital y genero 86737.4613323575 de intereses\n",
      "Al final del año 8 usted tendra: 1418653.13542023 pesos en total, 1000000 es de capital y genero 92809.08362562253 de intereses\n",
      "Al final del año 9 usted tendra: 1785458.854899646 pesos en total, 1250000 es de capital y genero 116805.7194794161 de intereses\n",
      "Al final del año 10 usted tendra: 1910440.9747426212 pesos en total, 1250000 es de capital y genero 124982.11984297523 de intereses\n"
     ]
    }
   ],
   "source": [
    "for i in range(1,años+1):\n",
    "    print(\"Al final del año {} usted tendra: {} pesos en total, {} es de capital y genero {} de intereses\".format(i,dict_año[\"Año \"+str(i)][2],dict_año[\"Año \"+str(i)][0],dict_año[\"Año \"+str(i)][1]))"
   ]
  },
  {
   "cell_type": "code",
   "execution_count": null,
   "metadata": {},
   "outputs": [],
   "source": []
  }
 ],
 "metadata": {
  "interpreter": {
   "hash": "1f584d1f2099a3b6b1aabed6fa6c4f9531bcc1f97f929a8d4f3fbf52265911e6"
  },
  "kernelspec": {
   "display_name": "Python 3.9.1 64-bit ('myenv': conda)",
   "name": "python3"
  },
  "language_info": {
   "codemirror_mode": {
    "name": "ipython",
    "version": 3
   },
   "file_extension": ".py",
   "mimetype": "text/x-python",
   "name": "python",
   "nbconvert_exporter": "python",
   "pygments_lexer": "ipython3",
   "version": "3.9.1"
  },
  "orig_nbformat": 4
 },
 "nbformat": 4,
 "nbformat_minor": 2
}
