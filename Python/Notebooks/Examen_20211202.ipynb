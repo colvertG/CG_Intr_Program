{
 "cells": [
  {
   "cell_type": "markdown",
   "metadata": {},
   "source": [
    "## 9\tPara un período de N años se invierten 250 mil pesos en los años impares (1, 3, 5, 7,…). Determinar el valor del capital al final cada año , con intereses del 7% anual. Genere el código para introducir la cantidad de años, y en una lista o tupla se guarde el valor capital junto con intereses cada año, además considere que los intereses se reinvierten únicamente cada año"
   ]
  },
  {
   "cell_type": "code",
   "execution_count": 2,
   "metadata": {},
   "outputs": [],
   "source": [
    "años=int(input(\"A cuantos años deseas calcular tu inversión (deberás invertir 250mil pesos los años 1,3,5,etc) y el interés generado de cada año (7%) se va a re invertir al final de cada año\"))#Pide al usuario cuantos años desea invertir"
   ]
  },
  {
   "cell_type": "code",
   "execution_count": 3,
   "metadata": {},
   "outputs": [
    {
     "name": "stdout",
     "output_type": "stream",
     "text": [
      "{'Año 1': [250000, 17500.0, 267500.0], 'Año 2': [250000, 18725.0, 286225.0], 'Año 3': [500000, 37535.75, 573760.75], 'Año 4': [500000, 40163.2525, 613924.0025], 'Año 5': [750000, 60474.680175, 924398.6826749999]}\n"
     ]
    }
   ],
   "source": [
    "inversion=0 #Variable que va a almacenar el capital invertido por el usuario\n",
    "interes=0 #Variable que va a almacenar el interés\n",
    "inversion_interes=0 #Variable que va a almacenar la suma de la inversión mas el interés\n",
    "dict_año={} #Declara diccionario vació que va a almacenar las tres variables anteriores, las llaves serán los años (\"año 1\",\"año 2\",etc)\n",
    "for n in range(1,años+1): #Ciclo que recorre desde el año 1 hasta el año ingresado por el usuario\n",
    "    if n%2!=0: #Condicional para discrimar los años pares\n",
    "        inversion=inversion+250000 #Suma a la variable inversión si es un año impar\n",
    "        inversion_interes=inversion_interes+250000 #Suma a la inversion_interes si es un año impar   \n",
    "    interes=inversion_interes*0.07 #Suma el interés de cada año\n",
    "    inversion_interes=inversion_interes+interes #Suma el interés de cada año a inversion_interes\n",
    "    dict_año[\"Año \"+str(n)]=[inversion,interes,inversion_interes] #Agrega los tres valores a un diccionario en la llave del año\n",
    "print(dict_año) #imprime diccionario"
   ]
  },
  {
   "cell_type": "code",
   "execution_count": 4,
   "metadata": {},
   "outputs": [
    {
     "name": "stdout",
     "output_type": "stream",
     "text": [
      "Al final del año 1 usted tendrá: 267500.0 pesos en total, 250000 es de capital y generó 17500.0 de intereses que se van a reinvertir\n",
      "Al final del año 2 usted tendrá: 286225.0 pesos en total, 250000 es de capital y generó 18725.0 de intereses que se van a reinvertir\n",
      "Al final del año 3 usted tendrá: 573760.75 pesos en total, 500000 es de capital y generó 37535.75 de intereses que se van a reinvertir\n",
      "Al final del año 4 usted tendrá: 613924.0025 pesos en total, 500000 es de capital y generó 40163.2525 de intereses que se van a reinvertir\n",
      "Al final del año 5 usted tendrá: 924398.6826749999 pesos en total, 750000 es de capital y generó 60474.680175 de intereses que se van a reinvertir\n"
     ]
    }
   ],
   "source": [
    "for i in range(1,años+1): #Ciclo por para recorrer del año 1 al año ingresado\n",
    "    print(\"Al final del año {} usted tendrá: {} pesos en total, {} es de capital y generó {} de intereses que se van a reinvertir\".format(i,dict_año[\"Año \"+str(i)][2],dict_año[\"Año \"+str(i)][0],dict_año[\"Año \"+str(i)][1])) #Imprime los resultados de cada año"
   ]
  },
  {
   "cell_type": "code",
   "execution_count": null,
   "metadata": {},
   "outputs": [],
   "source": []
  }
 ],
 "metadata": {
  "interpreter": {
   "hash": "1f584d1f2099a3b6b1aabed6fa6c4f9531bcc1f97f929a8d4f3fbf52265911e6"
  },
  "kernelspec": {
   "display_name": "Python 3.9.1 64-bit ('myenv': conda)",
   "name": "python3"
  },
  "language_info": {
   "codemirror_mode": {
    "name": "ipython",
    "version": 3
   },
   "file_extension": ".py",
   "mimetype": "text/x-python",
   "name": "python",
   "nbconvert_exporter": "python",
   "pygments_lexer": "ipython3",
   "version": "3.9.1"
  },
  "orig_nbformat": 4
 },
 "nbformat": 4,
 "nbformat_minor": 2
}
