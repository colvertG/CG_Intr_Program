{
 "cells": [
  {
   "cell_type": "markdown",
   "metadata": {},
   "source": [
    "# 1 Sea la lista de nombres de archivos de imágenes"
   ]
  },
  {
   "cell_type": "code",
   "execution_count": null,
   "metadata": {},
   "outputs": [],
   "source": [
    "lista=['C:\\\\users\\\\carpeta\\\\imagenes\\\\imagen1.jpg',\n",
    "       'C:\\\\users\\\\carpeta\\\\imagenes\\\\imagen2.tiff',\n",
    "       'C:\\\\users\\\\carpeta\\\\imagenes\\\\imagen3.bmp']\n",
    "\n",
    "#Realizar una lista o tupla nueva que solo contenga el tipo de archivo\n",
    "#Es decir la lista debe estar tener los elementos lista1=['jpg','tiff','bmp']\n",
    "#utilizar manejo de listas y cadena de caracteres (no usar for)"
   ]
  },
  {
   "cell_type": "code",
   "execution_count": 9,
   "metadata": {},
   "outputs": [
    {
     "data": {
      "text/plain": [
       "('jpg', 'tiff', 'bmp')"
      ]
     },
     "execution_count": 9,
     "metadata": {},
     "output_type": "execute_result"
    }
   ],
   "source": [
    "tupla_tipos=(lista[0].split(\".\")[-1],\n",
    "             lista[1].split(\".\")[-1],\n",
    "             lista[2].split(\".\")[-1])\n",
    "tupla_tipos"
   ]
  },
  {
   "cell_type": "markdown",
   "metadata": {},
   "source": [
    "# 2 Sea el dictionario siguiente"
   ]
  },
  {
   "cell_type": "code",
   "execution_count": 72,
   "metadata": {},
   "outputs": [],
   "source": [
    "estudiantes={1:{'nombre':'Fernando','grupo':'1','posgrado':'maestría'}\n",
    "             ,2:{'nombre':'Leonel','grupo':'2','posgrado':'maestría'}\n",
    "             ,3:{'nombre':'Casandra','grupo':'1','posgrado':'doctorado'}}\n",
    "#Realizar lo necesario para obtener el posgrado al cual pertenece Casandra"
   ]
  },
  {
   "cell_type": "code",
   "execution_count": 16,
   "metadata": {},
   "outputs": [
    {
     "data": {
      "text/plain": [
       "'doctorado'"
      ]
     },
     "execution_count": 16,
     "metadata": {},
     "output_type": "execute_result"
    }
   ],
   "source": [
    "estudiantes[3][\"posgrado\"]"
   ]
  },
  {
   "cell_type": "markdown",
   "metadata": {},
   "source": [
    "# 3 Compara si el file_name es igual a la última sección de la llave cocco_url"
   ]
  },
  {
   "cell_type": "code",
   "execution_count": 17,
   "metadata": {},
   "outputs": [],
   "source": [
    "dict={'license':4,\n",
    "      'file_name':\"000000397133.jpg\",\n",
    "      'coco_url':\"http://images.cocodataset.org/val2017/000000397133.jpg\",\n",
    "      'height':427,\n",
    "      'width':640,\n",
    "      'date_captured':\"2013-11-14 17:02:52\",\n",
    "      'flickr_url':\"http://farm7.staticflickr.com/6116/6255196340_da26cf2c9e_z.jpg\",\n",
    "      'id':397133}"
   ]
  },
  {
   "cell_type": "code",
   "execution_count": 18,
   "metadata": {},
   "outputs": [
    {
     "data": {
      "text/plain": [
       "dict_keys(['license', 'file_name', 'coco_url', 'height', 'width', 'date_captured', 'flickr_url', 'id'])"
      ]
     },
     "execution_count": 18,
     "metadata": {},
     "output_type": "execute_result"
    }
   ],
   "source": [
    "dict.keys()"
   ]
  },
  {
   "cell_type": "code",
   "execution_count": 85,
   "metadata": {},
   "outputs": [
    {
     "data": {
      "text/plain": [
       "True"
      ]
     },
     "execution_count": 85,
     "metadata": {},
     "output_type": "execute_result"
    }
   ],
   "source": [
    "dict[\"file_name\"].split(\".\")[:-1] == dict[\"coco_url\"].split(\"/\")[-1:][0].split(\".\")[:-1]\n"
   ]
  },
  {
   "cell_type": "markdown",
   "metadata": {},
   "source": [
    "# 4 sea la lista"
   ]
  },
  {
   "cell_type": "code",
   "execution_count": 34,
   "metadata": {},
   "outputs": [
    {
     "data": {
      "text/plain": [
       "\"['Araceli Guadalupe',\\n 'José Ángel',\\n 'María Regina',\\n 'Miguel Ángel',\\n 'Silvia Lorena']\\n Considerar que todos los elementos de la lista tienen 4 palabras (2 apellidos y 2 nombres).\\n Además, la lista de los 5 nombres completos puede cambiar.\\n No usar for.\\n Consejo: utilizar split, sort\""
      ]
     },
     "execution_count": 34,
     "metadata": {},
     "output_type": "execute_result"
    }
   ],
   "source": [
    "estudiantes1=['Bello Nuñez Silvia Lorena',\n",
    "              'Hernández Valencia Miguel Ángel' ,\n",
    "              'Chávez Cruz Araceli Guadalupe',\n",
    "              'Poveda Huezo María Regina',\n",
    "              'Godoy Ortega José Ángel']\n",
    "#Generar una nueva solo con los nombres, ordenados alfabéticamente\n",
    "\"\"\"['Araceli Guadalupe',\n",
    " 'José Ángel',\n",
    " 'María Regina',\n",
    " 'Miguel Ángel',\n",
    " 'Silvia Lorena']\n",
    " Considerar que todos los elementos de la lista tienen 4 palabras (2 apellidos y 2 nombres).\n",
    " Además, la lista de los 5 nombres completos puede cambiar.\n",
    " No usar for.\n",
    " Consejo: utilizar split, sort\"\"\""
   ]
  },
  {
   "cell_type": "code",
   "execution_count": 50,
   "metadata": {},
   "outputs": [
    {
     "data": {
      "text/plain": [
       "['Silvia Lorena',\n",
       " 'Miguel Ángel',\n",
       " 'Araceli Guadalupe',\n",
       " 'María Regina',\n",
       " 'José Ángel']"
      ]
     },
     "execution_count": 50,
     "metadata": {},
     "output_type": "execute_result"
    }
   ],
   "source": [
    "nombres=[estudiantes1[0].split(\" \")[2]+\" \"+estudiantes1[0].split(\" \")[3], \n",
    "         estudiantes1[1].split(\" \")[2]+\" \"+estudiantes1[1].split(\" \")[3], \n",
    "         estudiantes1[2].split(\" \")[2]+\" \"+estudiantes1[2].split(\" \")[3], \n",
    "         estudiantes1[3].split(\" \")[2]+\" \"+estudiantes1[3].split(\" \")[3], \n",
    "         estudiantes1[4].split(\" \")[2]+\" \"+estudiantes1[4].split(\" \")[3]]\n",
    "nombres"
   ]
  },
  {
   "cell_type": "code",
   "execution_count": 55,
   "metadata": {},
   "outputs": [
    {
     "data": {
      "text/plain": [
       "['Araceli Guadalupe',\n",
       " 'José Ángel',\n",
       " 'María Regina',\n",
       " 'Miguel Ángel',\n",
       " 'Silvia Lorena']"
      ]
     },
     "execution_count": 55,
     "metadata": {},
     "output_type": "execute_result"
    }
   ],
   "source": [
    "nombres.sort()\n",
    "nombres"
   ]
  },
  {
   "cell_type": "markdown",
   "metadata": {},
   "source": [
    "# 5 Sea la lista de rfc"
   ]
  },
  {
   "cell_type": "code",
   "execution_count": 58,
   "metadata": {},
   "outputs": [],
   "source": [
    "rfc=['saso750911','raro640314','mera161130']\n",
    "#realizar un dictionario que tenga como llave cada rfc y contenga 3 valores cada llave (dia, mes y año de nacimiento)\n",
    "#no usar for"
   ]
  },
  {
   "cell_type": "code",
   "execution_count": 66,
   "metadata": {},
   "outputs": [
    {
     "data": {
      "text/plain": [
       "{'saso750911': {'dia': '11', 'mes': '09', 'año': '75'},\n",
       " 'raro640314': {'dia': '14', 'mes': '03', 'año': '64'},\n",
       " 'mera161130': {'dia': '30', 'mes': '11', 'año': '16'}}"
      ]
     },
     "execution_count": 66,
     "metadata": {},
     "output_type": "execute_result"
    }
   ],
   "source": [
    "dict_rfc={rfc[0]:{\"dia\":rfc[0][-2:],\"mes\":rfc[0][-4:-2],\"año\":rfc[0][-6:-4]},\n",
    "          rfc[1]:{\"dia\":rfc[1][-2:],\"mes\":rfc[1][-4:-2],\"año\":rfc[1][-6:-4]},\n",
    "          rfc[2]:{\"dia\":rfc[2][-2:],\"mes\":rfc[2][-4:-2],\"año\":rfc[2][-6:-4]}}\n",
    "dict_rfc"
   ]
  },
  {
   "cell_type": "markdown",
   "metadata": {},
   "source": [
    "# 6"
   ]
  },
  {
   "cell_type": "code",
   "execution_count": 110,
   "metadata": {},
   "outputs": [],
   "source": [
    "#No utilizar for/while o if\n",
    "#Solo usar métodos asociados a datos\n",
    "#Sea las variables\n",
    "ROOT_DIR = '/Users/taniaglae/Documents/VIIS-mac/COCO'\n",
    "#Sea la lista\n",
    "archivos=[\"/Users/taniaglae/Documents/VIIS-mac/COCO/val2017/000000182611.jpg\",\n",
    "          \"/Users/taniaglae/Documents/VIIS-mac/COCO/val2017/000000335177.jpg\",\n",
    "          \"/Users/taniaglae/Documents/VIIS-mac/COCO/val2017/000000278705.jpg\",\n",
    "          '/Users/taniaglae/Documents/VIIS-mac/COCO/val2017/000000032861.jpg',\n",
    "          \"/Users/taniaglae/Documents/VIIS-mac/COCO/val2017/000000005001.jpg\"]\n",
    "#Se desea guardar un nuevo archivo en una carpeta diferente\n",
    "#En la carpeta ROOT_DIR+'/gabor/‘\n",
    "#Generar una nueva lista automáticamente donde sea la nueva carpeta anterior y el archivo jpg no contenga ceros\n",
    "#archivos1=[\"/Users/taniaglae/Documents/VIIS-mac/COCO/gabor/182611.jpg\",\n",
    "#          \"/Users/taniaglae/Documents/VIIS-mac/COCO/gabor/335177.jpg\",\n",
    "#          \"/Users/taniaglae/Documents/VIIS-mac/COCO/gabor/278705.jpg\"]"
   ]
  },
  {
   "cell_type": "code",
   "execution_count": 111,
   "metadata": {},
   "outputs": [
    {
     "data": {
      "text/plain": [
       "['/Users/taniaglae/Documents/VIIS-mac/COCO/gabor/182611.jpg',\n",
       " '/Users/taniaglae/Documents/VIIS-mac/COCO/gabor/335177.jpg',\n",
       " '/Users/taniaglae/Documents/VIIS-mac/COCO/gabor/278705.jpg',\n",
       " '/Users/taniaglae/Documents/VIIS-mac/COCO/gabor/32861.jpg',\n",
       " '/Users/taniaglae/Documents/VIIS-mac/COCO/gabor/5001.jpg']"
      ]
     },
     "execution_count": 111,
     "metadata": {},
     "output_type": "execute_result"
    }
   ],
   "source": [
    "new_list=[ROOT_DIR+\"/gabor/\"+archivos[0].split(\"/\")[-1:][0].lstrip(\"0\"),\n",
    "          ROOT_DIR+\"/gabor/\"+archivos[1].split(\"/\")[-1:][0].lstrip(\"0\"),\n",
    "          ROOT_DIR+\"/gabor/\"+archivos[2].split(\"/\")[-1:][0].lstrip(\"0\"),\n",
    "          ROOT_DIR+\"/gabor/\"+archivos[3].split(\"/\")[-1:][0].lstrip(\"0\"),\n",
    "          ROOT_DIR+\"/gabor/\"+archivos[4].split(\"/\")[-1:][0].lstrip(\"0\")]\n",
    "new_list"
   ]
  },
  {
   "cell_type": "code",
   "execution_count": 108,
   "metadata": {},
   "outputs": [
    {
     "name": "stdout",
     "output_type": "stream",
     "text": [
      "Help on method_descriptor:\n",
      "\n",
      "lstrip(self, chars=None, /)\n",
      "    Return a copy of the string with leading whitespace removed.\n",
      "    \n",
      "    If chars is given and not None, remove characters in chars instead.\n",
      "\n"
     ]
    }
   ],
   "source": [
    "help(str.lstrip)"
   ]
  },
  {
   "cell_type": "code",
   "execution_count": null,
   "metadata": {},
   "outputs": [],
   "source": []
  },
  {
   "cell_type": "markdown",
   "metadata": {},
   "source": []
  }
 ],
 "metadata": {
  "interpreter": {
   "hash": "1f584d1f2099a3b6b1aabed6fa6c4f9531bcc1f97f929a8d4f3fbf52265911e6"
  },
  "kernelspec": {
   "display_name": "Python 3.9.1 64-bit ('myenv': conda)",
   "name": "python3"
  },
  "language_info": {
   "codemirror_mode": {
    "name": "ipython",
    "version": 3
   },
   "file_extension": ".py",
   "mimetype": "text/x-python",
   "name": "python",
   "nbconvert_exporter": "python",
   "pygments_lexer": "ipython3",
   "version": "3.9.1"
  },
  "orig_nbformat": 4
 },
 "nbformat": 4,
 "nbformat_minor": 2
}
